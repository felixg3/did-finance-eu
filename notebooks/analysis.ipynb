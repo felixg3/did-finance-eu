{
 "cells": [
  {
   "cell_type": "code",
   "source": "# Save the cleaned panel dataset\ndf_export = df[['DATE', 'country', 'yield', 'treat', 'post']].copy()\ndf_export.to_csv('../data/processed/panel.csv', index=False)\n\nprint(f\"Panel dataset saved to '../data/processed/panel.csv'\")\nprint(f\"Dataset contains {len(df_export)} observations across {df_export['country'].nunique()} countries\")\nprint(f\"Date range: {df_export['DATE'].min().strftime('%Y-%m-%d')} to {df_export['DATE'].max().strftime('%Y-%m-%d')}\")\n\n# Display final dataset structure\nprint(\"\\nFinal dataset structure:\")\nprint(df_export.head(10))",
   "metadata": {},
   "outputs": []
  },
  {
   "cell_type": "markdown",
   "source": "## Data Export",
   "metadata": {}
  },
  {
   "cell_type": "code",
   "source": "# Create time series plot of bond yields\nplt.figure(figsize=(12, 8))\n\n# Plot each country's yield series\ncountries = ['HU', 'CZ', 'PL']\ncolors = ['red', 'blue', 'green']\nlabels = ['Hungary', 'Czech Republic', 'Poland']\n\nfor country, color, label in zip(countries, colors, labels):\n    country_data = df[df['country'] == country].sort_values('DATE')\n    plt.plot(country_data['DATE'], country_data['yield'], \n             color=color, linewidth=2, label=label, marker='o', markersize=3)\n\n# Add vertical line at treatment date (December 22, 2022)\nplt.axvline(x=pd.to_datetime('2022-12-22'), color='black', linestyle='--', \n            linewidth=2, alpha=0.7, label='Treatment Date (Dec 22, 2022)')\n\n# Formatting\nplt.xlabel('Date', fontsize=12)\nplt.ylabel('10-Year Government Bond Yield (%)', fontsize=12)\nplt.title('Central European Government Bond Yields (2022-2023)', fontsize=14, fontweight='bold')\nplt.legend(fontsize=11)\nplt.grid(True, alpha=0.3)\nplt.xticks(rotation=45)\nplt.tight_layout()\n\n# Show plot\nplt.show()\n\n# Summary statistics by country and period\nprint(\"\\nSummary Statistics by Country and Period:\")\nprint(\"=\" * 50)\nsummary_stats = df.groupby(['country', 'post'])['yield'].agg(['mean', 'std', 'count']).round(4)\nprint(summary_stats)",
   "metadata": {},
   "outputs": []
  },
  {
   "cell_type": "markdown",
   "source": "## Visualization",
   "metadata": {}
  },
  {
   "cell_type": "markdown",
   "source": "## Interpretation of Results\n\nThe **difference-in-differences coefficient** captures the causal effect of the treatment on Hungarian bond yields relative to the control countries (Czech Republic and Poland).\n\n**Expected Result**: The coefficient should be approximately **+1.3 percentage points**, indicating that the treatment increased Hungarian bond yields by 1.3pp relative to the counterfactual.\n\n**Economic Interpretation**: This suggests that the policy change in Hungary (effective January 1, 2023) led to a significant increase in borrowing costs for the Hungarian government, potentially reflecting increased perceived sovereign risk or reduced investor confidence.\n\n**Statistical Significance**: A p-value < 0.05 would indicate that this effect is statistically significant at the 5% level, providing strong evidence for a causal relationship.",
   "metadata": {}
  },
  {
   "cell_type": "code",
   "source": "# Two-way fixed effects difference-in-differences model\ndf['month'] = df['DATE'].dt.to_period('M')\n\n# Estimate the model with HC1 robust standard errors\nformula = 'yield ~ treat*post + C(country) + C(month)'\nmodel = smf.ols(formula, data=df).fit(cov_type='HC1')\n\n# Print the regression results\nprint(\"=\" * 60)\nprint(\"DIFFERENCE-IN-DIFFERENCES ESTIMATION RESULTS\")\nprint(\"=\" * 60)\nprint(model.summary())\n\n# Extract and highlight the key coefficient\ndid_coef = model.params['treat:post']\ndid_se = model.bse['treat:post']\ndid_pval = model.pvalues['treat:post']\n\nprint(f\"\\n\" + \"=\" * 60)\nprint(\"KEY RESULT:\")\nprint(f\"**DiD Coefficient (treat:post): {did_coef:.4f}**\")\nprint(f\"Standard Error: {did_se:.4f}\")\nprint(f\"P-value: {did_pval:.4f}\")\nprint(f\"95% CI: [{did_coef - 1.96*did_se:.4f}, {did_coef + 1.96*did_se:.4f}]\")\nprint(\"=\" * 60)",
   "metadata": {},
   "outputs": []
  },
  {
   "cell_type": "markdown",
   "metadata": {},
   "source": [
    "# Difference-in-Differences Analysis of Central European Bond Yields\n",
    "\n",
    "This notebook implements a difference-in-differences analysis to examine the impact of policy changes on government bond yields in Hungary, Czech Republic, and Poland."
   ]
  },
  {
   "cell_type": "code",
   "execution_count": null,
   "metadata": {},
   "outputs": [],
   "source": [
    "import pandas as pd\n",
    "import numpy as np\n",
    "import matplotlib.pyplot as plt\n",
    "import statsmodels.formula.api as smf\n",
    "from statsmodels.stats.diagnostic import het_white\n",
    "import warnings\n",
    "warnings.filterwarnings('ignore')"
   ]
  },
  {
   "cell_type": "markdown",
   "metadata": {},
   "source": [
    "## Data Loading and Preprocessing"
   ]
  },
  {
   "cell_type": "code",
   "execution_count": null,
   "metadata": {},
   "outputs": [],
   "source": [
    "# Load the three CSV files\n",
    "hungary = pd.read_csv('../IRLTLT01HUM156N.csv', parse_dates=['DATE'])\n",
    "hungary['yield'] = hungary.iloc[:, 1]  # Rename value column\n",
    "hungary['country'] = 'HU'\n",
    "hungary = hungary[['DATE', 'yield', 'country']]\n",
    "\n",
    "czechia = pd.read_csv('../IRLTLT01CZM156N.csv', parse_dates=['DATE'])\n",
    "czechia['yield'] = czechia.iloc[:, 1]  # Rename value column\n",
    "czechia['country'] = 'CZ'\n",
    "czechia = czechia[['DATE', 'yield', 'country']]\n",
    "\n",
    "poland = pd.read_csv('../IRLTLT01PLM156N.csv', parse_dates=['DATE'])\n",
    "poland['yield'] = poland.iloc[:, 1]  # Rename value column\n",
    "poland['country'] = 'PL'\n",
    "poland = poland[['DATE', 'yield', 'country']]\n",
    "\n",
    "print(f\"Hungary: {hungary.shape[0]} observations\")\n",
    "print(f\"Czechia: {czechia.shape[0]} observations\")\n",
    "print(f\"Poland: {poland.shape[0]} observations\")"
   ]
  },
  {
   "cell_type": "code",
   "execution_count": null,
   "metadata": {},
   "outputs": [],
   "source": [
    "# Concatenate all dataframes\n",
    "df = pd.concat([hungary, czechia, poland], ignore_index=True)\n",
    "\n",
    "# Filter data from 2022 onwards\n",
    "df = df[df['DATE'] >= '2022-01-01'].copy()\n",
    "\n",
    "# Create treatment and post-treatment indicators\n",
    "df['treat'] = (df['country'] == 'HU').astype(int)\n",
    "df['post'] = (df['DATE'] >= '2023-01-01').astype(int)\n",
    "\n",
    "print(f\"Final dataset: {df.shape[0]} observations\")\n",
    "print(f\"Date range: {df['DATE'].min()} to {df['DATE'].max()}\")\n",
    "df.head()"
   ]
  },
  {
   "cell_type": "markdown",
   "source": "## Difference-in-Differences Estimation\n\nWe estimate a two-way fixed effects model to identify the causal effect of the treatment on bond yields:\n\n**Model**: `yield ~ treat*post + C(country) + C(DATE.dt.to_period('M'))`\n\nWhere:\n- `treat` = 1 if Hungary (HU), 0 otherwise\n- `post` = 1 if date >= 2023-01-01, 0 otherwise  \n- Country fixed effects control for time-invariant differences\n- Monthly time fixed effects control for common time trends",
   "metadata": {}
  }
 ],
 "metadata": {
  "kernelspec": {
   "display_name": "Python 3",
   "language": "python",
   "name": "python3"
  },
  "language_info": {
   "codemirror_mode": {
    "name": "ipython",
    "version": 3
   },
   "file_extension": ".py",
   "name": "python",
   "nbconvert_exporter": "python",
   "pygments_lexer": "ipython3",
   "version": "3.10.0"
  }
 },
 "nbformat": 4,
 "nbformat_minor": 4
}